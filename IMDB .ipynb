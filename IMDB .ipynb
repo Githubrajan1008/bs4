{
 "cells": [
  {
   "cell_type": "code",
   "execution_count": 1,
   "id": "fdc352de",
   "metadata": {},
   "outputs": [],
   "source": [
    "# 1. IMDB #"
   ]
  },
  {
   "cell_type": "code",
   "execution_count": 2,
   "id": "f63aa596",
   "metadata": {},
   "outputs": [],
   "source": [
    "import pandas as pd\n",
    "import requests\n",
    "from bs4 import BeautifulSoup\n",
    "import html5lib"
   ]
  },
  {
   "cell_type": "code",
   "execution_count": 3,
   "id": "e6f976b1",
   "metadata": {},
   "outputs": [
    {
     "data": {
      "text/plain": [
       "<Response [403]>"
      ]
     },
     "execution_count": 3,
     "metadata": {},
     "output_type": "execute_result"
    }
   ],
   "source": [
    "url=\"https://www.imdb.com/list/ls056092300/\"\n",
    "response=requests.get(url)\n",
    "response"
   ]
  },
  {
   "cell_type": "code",
   "execution_count": null,
   "id": "1ecaf30f",
   "metadata": {},
   "outputs": [],
   "source": [
    "# As we got the response 403, we cannot scrape the web page #"
   ]
  }
 ],
 "metadata": {
  "kernelspec": {
   "display_name": "Python 3 (ipykernel)",
   "language": "python",
   "name": "python3"
  },
  "language_info": {
   "codemirror_mode": {
    "name": "ipython",
    "version": 3
   },
   "file_extension": ".py",
   "mimetype": "text/x-python",
   "name": "python",
   "nbconvert_exporter": "python",
   "pygments_lexer": "ipython3",
   "version": "3.11.5"
  }
 },
 "nbformat": 4,
 "nbformat_minor": 5
}
